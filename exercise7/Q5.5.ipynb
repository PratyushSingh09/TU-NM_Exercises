{
 "cells": [
  {
   "cell_type": "markdown",
   "metadata": {},
   "source": [
    "## Mode Decomposition Application"
   ]
  },
  {
   "cell_type": "code",
   "execution_count": 7,
   "metadata": {},
   "outputs": [],
   "source": [
    "using LinearAlgebra\n",
    "# using Plots\n",
    "using PyCall\n",
    "using PyPlot\n",
    "using DataFrames\n",
    "using CSV\n",
    "using Symbolics\n",
    "using Integrals\n",
    "# plotlyjs()\n",
    "matplotlib.use(\"TkAgg\")"
   ]
  },
  {
   "cell_type": "markdown",
   "metadata": {},
   "source": [
    "### Functions for all Integral Methods:"
   ]
  },
  {
   "cell_type": "markdown",
   "metadata": {},
   "source": [
    "#### Trapezoidal and Simpson Methods\n",
    "These integration methods implement the following formulas:\n",
    "1. Trapezoidal: $\\frac{h}{2} ( (f_1 +2f_2  \\dots 2f_{n-1} +f_n)) $\n",
    "2. Simpson 1/3: $\\frac{h}{3} (f_1 +4f_2 +2f_3 +4f_4 +\\dots +2f_{n-2}+4f_{n-1} +f_n) $\n",
    "2. Simpson 3/8: $\\frac{3h}{8} (f_1 +3f_2 +3f_3 +2f_4 +\\dots+ 2f_{n-3} +3f_{n-2}+3f_{n-1} +f_n) $"
   ]
  },
  {
   "cell_type": "code",
   "execution_count": 210,
   "metadata": {},
   "outputs": [
    {
     "data": {
      "text/plain": [
       "simpson3_8 (generic function with 1 method)"
      ]
     },
     "metadata": {},
     "output_type": "display_data"
    }
   ],
   "source": [
    "function Integrate_Trapezoidal(f,h,lim)\n",
    "    xᵢ= lim[1]:h:lim[2]\n",
    "    intg=f(xᵢ[1])+f(xᵢ[end])\n",
    "\n",
    "    for i in xᵢ[2:end-1]\n",
    "        intg += 2f(i)\n",
    "    end\n",
    "\n",
    "    return intg*h/2\n",
    "    \n",
    "end\n",
    "\n",
    "function simpson1_3(f,h,lim)\n",
    "    xᵢ= lim[1]:h:lim[2]\n",
    "    intg=f(xᵢ[1])+f(xᵢ[end])\n",
    "\n",
    "    for i in xᵢ[2:2:end-1]\n",
    "        intg += 4f(i) + 2f(i+h)\n",
    "    end\n",
    "\n",
    "    return intg*h/3\n",
    "end\n",
    "\n",
    "function simpson3_8(f,h,lim)\n",
    "    xᵢ= lim[1]:h:lim[2]\n",
    "    intg=f(xᵢ[1])+f(xᵢ[end])\n",
    "\n",
    "    for i in xᵢ[2:3:end-2]\n",
    "        intg += 3f(i) \n",
    "    end\n",
    "    for i in xᵢ[3:3:end-1]\n",
    "        intg += 3f(i) \n",
    "    end\n",
    "    for i in xᵢ[4:3:end-3]\n",
    "        intg += 2f(i) \n",
    "    end\n",
    "\n",
    "    return intg*3h/8\n",
    "end\n"
   ]
  },
  {
   "cell_type": "markdown",
   "metadata": {},
   "source": [
    "#### Gauss Legendre Methods\n",
    "These functions implement Gauss Legendre methods for 2,4,8 points. The optional arguments `t_func` and `dx_dt`are to transform x and $\\frac{dx}{dt}$ respectively such that the limits of the integral are [-1,1] so that these methods work as expected. "
   ]
  },
  {
   "cell_type": "code",
   "execution_count": 212,
   "metadata": {},
   "outputs": [
    {
     "data": {
      "text/plain": [
       "Gauss_Legendre_8p (generic function with 1 method)"
      ]
     },
     "metadata": {},
     "output_type": "display_data"
    }
   ],
   "source": [
    "\n",
    "function Gauss_Legendre_2p(f::Function;t_func=identity,dx_dt=1, h= nothing, lim = nothing)\n",
    "    Aᵢ = [ 1,1]\n",
    "    xᵢ = [ -0.5773502692,0.5773502692]\n",
    "   dot(Aᵢ,f.(t_func.(xᵢ)))*dx_dt \n",
    "end\n",
    "function Gauss_Legendre_4p(f::Function;t_func=identity,dx_dt=1, h= nothing, lim = nothing)\n",
    "    Aᵢ = [ 0.3478548451 , 0.6521451549, 0.6521451549, 0.3478548451 ]\n",
    "    xᵢ = [ -0.8611363116 , -0.3394810436, 0.3394810436, 0.8611363116]\n",
    "   dot(Aᵢ,f.(t_func.(xᵢ)))*dx_dt\n",
    "end\n",
    "function Gauss_Legendre_8p(f::Function;t_func=identity,dx_dt=1, h= nothing, lim = nothing)\n",
    "    Aᵢ = [ 0.1012285363,0.2223810345,0.3137066459,0.3626837834,\n",
    "           0.1012285363,0.2223810345,0.3137066459,0.3626837834]\n",
    "    xᵢ = [ -0.9602898565,-0.7966664774,-0.5255324099,-0.1834346425,\n",
    "            0.9602898565, 0.7966664774, 0.5255324099, 0.1834346425]\n",
    "   dot(Aᵢ,f.(t_func.(xᵢ)))*dx_dt\n",
    "end"
   ]
  },
  {
   "cell_type": "markdown",
   "metadata": {},
   "source": [
    "#### Spline Integration Method\n",
    "Equal spacing is assumed for spline integration. First, we obtain the spline coefficients $a_i$, $b_i$, $c_i$ and $d_i$ as:<br>\n",
    "1.  $a_i = \\frac{S_{i+1}-S_i}{6h_i}$\n",
    "2.  $b_i = \\frac{S_i}{2}$\n",
    "3.  $c_i = \\frac{y_{i+1}-y_i}{h_i} - \\frac{2h_iS_{i}+h_iS_{i+1}}{6}$\n",
    "4. $d_i = y_i$\n",
    "\n",
    "The solution for S is obtained by solving the matrix equation `AS = Y` where A is a tridiagonal matrix with elements $(h,2h,h)$ \n",
    "\n",
    "<br> Using these coefficients, the integral is approximated as: $\\frac{h^4}{4}\\sum_0^{n-1}a_i + \\frac{h^3}{3}\\sum_0^{n-1}b_i + \\frac{h^2}{2}\\sum_0^{n-1}c_i+ {h}\\sum_0^{n-1}d_i$"
   ]
  },
  {
   "cell_type": "code",
   "execution_count": 203,
   "metadata": {},
   "outputs": [
    {
     "data": {
      "text/plain": [
       "spline_integration (generic function with 1 method)"
      ]
     },
     "metadata": {},
     "output_type": "display_data"
    }
   ],
   "source": [
    "function spline_coeff(f::Function,n,lim;verbose=false)\n",
    "    Y = f.(range(lim[1],lim[2],length=n+1))\n",
    "    h= Y[2]-Y[1]\n",
    "\n",
    "    if verbose\n",
    "        print(h,' ',n ,'\\n')\n",
    "        \n",
    "    end\n",
    "\n",
    "    # S=0 AND Sₙ=0\n",
    "    A = Tridiagonal(repeat([h],n-2),repeat([2h],n-1),repeat([h],n-2))\n",
    "\n",
    "    \n",
    "    if verbose\n",
    "        print(size(A),'\\n')\n",
    "        print(size(Y),'\\n')\n",
    "        \n",
    "    end\n",
    "    S = A\\(Y[2:end-1])\n",
    "    \n",
    "    S = [0;S;0]\n",
    "    # Y = [Y;f₁(lim[2])]\n",
    "    if verbose\n",
    "        print(size(S),'\\n')\n",
    "        print(size(Y),'\\n')\n",
    "        \n",
    "    end\n",
    "    aᵢ=zeros(n)\n",
    "    bᵢ=zeros(n)\n",
    "    cᵢ=zeros(n)\n",
    "    dᵢ=zeros(n)\n",
    "    for i in 1:(n)\n",
    "        aᵢ[i] = (S[i+1]-S[i])/(6h)\n",
    "        bᵢ[i] = S[i]/2\n",
    "        cᵢ[i] = (Y[i+1]-Y[i])/h - (2h*S[i]+h*S[i+1])/6\n",
    "        dᵢ[i] = Y[i]\n",
    "    end\n",
    "    return aᵢ,bᵢ,cᵢ,dᵢ,h\n",
    "end\n",
    "\n",
    "function spline_integration(f::Function,n,lim;verbose=false)\n",
    "    \n",
    "    aᵢ,bᵢ,cᵢ,dᵢ,h = spline_coeff(f,n,lim,verbose=verbose)\n",
    "    \n",
    "    intg = h^4/4*sum(aᵢ) + h^3/3*sum(bᵢ) + h^2/2*sum(cᵢ) + h*sum(dᵢ) \n",
    "    \n",
    "    return intg,h\n",
    "    \n",
    "end"
   ]
  },
  {
   "cell_type": "markdown",
   "metadata": {},
   "source": [
    "### Testing and Comparison"
   ]
  },
  {
   "cell_type": "markdown",
   "metadata": {},
   "source": [
    "#### Definitions for Functions and their Analytical Integrals"
   ]
  },
  {
   "cell_type": "code",
   "execution_count": 141,
   "metadata": {},
   "outputs": [
    {
     "data": {
      "text/plain": [
       "∫f₃ (generic function with 1 method)"
      ]
     },
     "metadata": {},
     "output_type": "display_data"
    }
   ],
   "source": [
    "function f₁(x)\n",
    "    exp(x)cos(x)\n",
    "    \n",
    "end\n",
    "\n",
    "function ∫f₁(x)\n",
    "    0.5*exp(x)*(sin(x)+cos(x))\n",
    "end \n",
    "\n",
    "function f₃(x)\n",
    "    if x<0\n",
    "        return exp(2x)\n",
    "    else\n",
    "        x-2cos(x)+4\n",
    "    end\n",
    "end\n",
    "\n",
    "function ∫f₃(x)\n",
    "    if x<0\n",
    "        return exp(2x)/2\n",
    "    else\n",
    "        x^2/2-2sin(x)+4x\n",
    "    end\n",
    "end"
   ]
  },
  {
   "cell_type": "markdown",
   "metadata": {},
   "source": [
    "##### Function for Plotting log(E) vs log(h) for several Integration Methods"
   ]
  },
  {
   "cell_type": "code",
   "execution_count": 240,
   "metadata": {},
   "outputs": [
    {
     "data": {
      "text/plain": [
       "Integral_Test (generic function with 3 methods)"
      ]
     },
     "metadata": {},
     "output_type": "display_data"
    }
   ],
   "source": [
    "function Integral_Test(f,∫f,N,lim,t_func,dx_dt)\n",
    "    True_Int = ∫f(lim[2]) - ∫f(lim[1])\n",
    "    plt.close(\"all\")\n",
    "    \n",
    "    for Int_Func in [Integrate_Trapezoidal,simpson1_3,simpson3_8]\n",
    "        h_arr=zeros(length(N))\n",
    "        Err_arr=zeros(length(N))\n",
    "\n",
    "        for (n,i) in zip(N,1:length(N))\n",
    "            h₁ = (lim[2]-lim[1])/n\n",
    "            intg = Int_Func(f,h₁,lim)\n",
    "            Err = abs(True_Int - intg)\n",
    "        \n",
    "            Err_arr[i] = Err\n",
    "            h_arr[i] = h₁\n",
    "        end\n",
    "        plt.plot(h_arr,Err_arr)\n",
    "    end\n",
    "\n",
    "    for GL_Func in [Gauss_Legendre_2p,Gauss_Legendre_4p,Gauss_Legendre_8p]\n",
    "        h_arr=zeros(length(N))\n",
    "        Err_arr=zeros(length(N))\n",
    "\n",
    "        for (n,i) in zip(N,1:length(N))\n",
    "            h₁ = (lim[2]-lim[1])/n\n",
    "            intg = GL_Func(f,t_func=t_func,dx_dt=dx_dt)\n",
    "            Err = abs(True_Int - intg)\n",
    "        \n",
    "            Err_arr[i] = Err\n",
    "            h_arr[i] = h₁\n",
    "        end\n",
    "        plt.plot(h_arr,Err_arr)\n",
    "    end\n",
    "\n",
    "    for Spline_Func in [spline_integration]\n",
    "        h_arr=zeros(length(N))\n",
    "        Err_arr=zeros(length(N))\n",
    "\n",
    "        for (n,i) in zip(N,1:length(N))\n",
    "            intg,h₁ = Spline_Func(f,n,lim)\n",
    "            Err = abs(True_Int - intg)\n",
    "            h₁ = (lim[2]-lim[1])/n\n",
    "        \n",
    "            Err_arr[i] = Err\n",
    "            h_arr[i] = h₁\n",
    "        end\n",
    "        plt.plot(h_arr,Err_arr)\n",
    "    end\n",
    "\n",
    "    legend(string.([Integrate_Trapezoidal,simpson1_3,simpson3_8,Gauss_Legendre_2p,Gauss_Legendre_4p,Gauss_Legendre_8p,spline_integration]))\n",
    "    xlabel(\"h\")\n",
    "    ylabel(\"Deviation from True Value\")\n",
    "    title(\"Error for Trapezoidal Method for \"*string(f))\n",
    "    grid()\n",
    "    plt.show()\n",
    "end\n"
   ]
  },
  {
   "cell_type": "markdown",
   "metadata": {},
   "source": [
    "#### 1. $f₁(x) = e^xcos(x)$"
   ]
  },
  {
   "cell_type": "markdown",
   "metadata": {},
   "source": [
    "For Gauss Legendre methods, transform x as: $t=\\frac{4x}{\\pi}-1$ such that the new limits are \\[-1,1\\] <br>\n",
    "Therefore $x=(t+1)\\frac{\\pi}{4}$ and $dx = \\frac{\\pi}{4}dt$ <br>\n",
    "$\\frac{\\pi}{4}\\int_{-1}^1 e^{(t+1)\\frac{\\pi}{4}}cos((t+1)\\frac{\\pi}{4})dt$"
   ]
  },
  {
   "cell_type": "code",
   "execution_count": 247,
   "metadata": {},
   "outputs": [],
   "source": [
    "N = 5:1:501\n",
    "lim₁ = [0,π/2]\n",
    "function Transform_for_GL(x)\n",
    "    (x+1)*π/4\n",
    "end\n",
    "Integral_Test(f₁,∫f₁,N,lim₁,Transform_for_GL,π/4)"
   ]
  },
  {
   "cell_type": "markdown",
   "metadata": {},
   "source": [
    "#### Notes\n",
    "\n",
    "Looking at the graphs, we see simpson 3/8 converging slower than simpson 1/3 and trapezoidal methods which converge at a similar rate. Spline integration converges faster than simpson 3/8 but slower than other two. The simpson integrals display oscillatory behaviour, I'm not sure why <br>\n",
    "The Gauss Legendre methods get closer to the true value of the integral for larger number of points used and are the most accurate for this function"
   ]
  },
  {
   "cell_type": "markdown",
   "metadata": {},
   "source": [
    "#### 2. $f_2(x) = e^x$"
   ]
  },
  {
   "cell_type": "markdown",
   "metadata": {},
   "source": [
    "For Gauss Legendre methods, transform x as: $t=\\frac{x-1}{2}$ such that the new limits are \\[-1,1\\] <br>\n",
    "Therefore $x=(2t+1)$ and $dx = 2dt$ <br>\n",
    "$2\\int_{-1}^1 e^{(2t+1)}dt$"
   ]
  },
  {
   "cell_type": "code",
   "execution_count": 246,
   "metadata": {},
   "outputs": [],
   "source": [
    "N = 5:1:501\n",
    "lim₁ = [-1,3]\n",
    "function Transform_for_GL(x)\n",
    "    2x+1\n",
    "end\n",
    "Integral_Test(f₁,∫f₁,N,lim₁,Transform_for_GL,2)"
   ]
  },
  {
   "cell_type": "markdown",
   "metadata": {},
   "source": [
    "#### 3. $f_3(x) = e^{2x} $ for x\\<0 and $f_3(x) = x-cos(x)+4 $ for x $\\geq$ 0"
   ]
  },
  {
   "cell_type": "code",
   "execution_count": 244,
   "metadata": {},
   "outputs": [],
   "source": [
    "N = 5:1:501\n",
    "lim₁ = [-1,1]\n",
    "\n",
    "Integral_Test(f₁,∫f₁,N,lim₁,identity,1)"
   ]
  },
  {
   "cell_type": "markdown",
   "metadata": {},
   "source": [
    "#### Notes\n",
    "For the last two functions we see something different, the spline integration gets worse for larger number of points, which is expected since interpolation with very large number of points can result in numerical instabilities"
   ]
  },
  {
   "cell_type": "markdown",
   "metadata": {},
   "source": [
    "#### Better Integral Methods\n",
    "We can improve our integral approximation by using methods like Romberg integration or using higher order Newton Cotes formulaes"
   ]
  },
  {
   "cell_type": "markdown",
   "metadata": {},
   "source": [
    "### Applications\n",
    "This will be done after we have discussed PDEs"
   ]
  }
 ],
 "metadata": {
  "kernelspec": {
   "display_name": "Julia 1.11.1",
   "language": "julia",
   "name": "julia-1.11"
  },
  "language_info": {
   "file_extension": ".jl",
   "mimetype": "application/julia",
   "name": "julia",
   "version": "1.11.1"
  }
 },
 "nbformat": 4,
 "nbformat_minor": 2
}
