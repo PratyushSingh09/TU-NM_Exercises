{
 "cells": [
  {
   "cell_type": "code",
   "execution_count": 13,
   "metadata": {},
   "outputs": [],
   "source": [
    "using LinearAlgebra\n",
    "# using Plots\n",
    "using PyCall\n",
    "using PyPlot\n",
    "using DataFrames\n",
    "using CSV\n",
    "using Symbolics\n",
    "using Integrals\n",
    "# plotlyjs()"
   ]
  },
  {
   "cell_type": "code",
   "execution_count": 18,
   "metadata": {},
   "outputs": [
    {
     "data": {
      "text/plain": [
       "f (generic function with 2 methods)"
      ]
     },
     "metadata": {},
     "output_type": "display_data"
    }
   ],
   "source": [
    "function f(x;p=Nothing)\n",
    "    2^x*sin(x)/x\n",
    "end"
   ]
  },
  {
   "cell_type": "code",
   "execution_count": 22,
   "metadata": {},
   "outputs": [
    {
     "data": {
      "text/plain": [
       "1.2127601715388112"
      ]
     },
     "metadata": {},
     "output_type": "display_data"
    }
   ],
   "source": [
    "f(0.3)"
   ]
  },
  {
   "cell_type": "code",
   "execution_count": 50,
   "metadata": {},
   "outputs": [
    {
     "data": {
      "text/plain": [
       "simpson⅓ (generic function with 1 method)"
      ]
     },
     "metadata": {},
     "output_type": "display_data"
    }
   ],
   "source": [
    "function simpson⅓(f,h,lim)\n",
    "    intg=0\n",
    "    for i in lim[1]:h:lim[2]-2h\n",
    "        s=h/3*( f(i) +4f(i+h) +f(i+2h) )\n",
    "        # print(s,' ')\n",
    "        if isnan(s)\n",
    "            # print(\"here\")\n",
    "            s=0\n",
    "        end\n",
    "        intg+=s\n",
    "    end\n",
    "\n",
    "    return intg\n",
    "end"
   ]
  },
  {
   "cell_type": "code",
   "execution_count": 34,
   "metadata": {},
   "outputs": [
    {
     "data": {
      "text/plain": [
       "retcode: Success\n",
       "u: 4.474196604373644"
      ]
     },
     "metadata": {},
     "output_type": "display_data"
    }
   ],
   "source": [
    "prob=IntegralProblem(f,[0.01,π])\n",
    "sol = solve(prob, HCubatureJL(), reltol = 1e-3, abstol = 1e-3)"
   ]
  },
  {
   "cell_type": "code",
   "execution_count": 49,
   "metadata": {},
   "outputs": [
    {
     "data": {
      "text/plain": [
       "8.938097298104994"
      ]
     },
     "metadata": {},
     "output_type": "display_data"
    }
   ],
   "source": [
    "simpson⅓(f,0.01,[0,π])"
   ]
  }
 ],
 "metadata": {
  "kernelspec": {
   "display_name": "Julia 1.11.1",
   "language": "julia",
   "name": "julia-1.11"
  },
  "language_info": {
   "file_extension": ".jl",
   "mimetype": "application/julia",
   "name": "julia",
   "version": "1.11.1"
  }
 },
 "nbformat": 4,
 "nbformat_minor": 2
}
