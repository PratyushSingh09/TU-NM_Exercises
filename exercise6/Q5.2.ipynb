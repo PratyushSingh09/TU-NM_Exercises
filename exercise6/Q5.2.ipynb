{
 "cells": [
  {
   "cell_type": "markdown",
   "metadata": {},
   "source": [
    "## Numerical Integration"
   ]
  },
  {
   "cell_type": "code",
   "execution_count": 1,
   "metadata": {},
   "outputs": [],
   "source": [
    "using LinearAlgebra\n",
    "# using Plots\n",
    "using PyCall\n",
    "using PyPlot\n",
    "using DataFrames\n",
    "using CSV\n",
    "using Symbolics\n",
    "using Integrals\n",
    "# plotlyjs()"
   ]
  },
  {
   "cell_type": "markdown",
   "metadata": {},
   "source": [
    "### Defining the Function\n",
    "A 'safe' version of the function is made since at x=0 f is undefined. "
   ]
  },
  {
   "cell_type": "code",
   "execution_count": 2,
   "metadata": {},
   "outputs": [
    {
     "data": {
      "text/plain": [
       "f_safe (generic function with 1 method)"
      ]
     },
     "metadata": {},
     "output_type": "display_data"
    }
   ],
   "source": [
    "function f(x;p=Nothing)\n",
    "    2^x*sin(x)/x\n",
    "end\n",
    "\n",
    "function f_safe(x;p=Nothing)\n",
    "    if x==0\n",
    "        return 0\n",
    "    else\n",
    "        f(x)\n",
    "    end\n",
    "end"
   ]
  },
  {
   "cell_type": "markdown",
   "metadata": {},
   "source": [
    "### 1. Simpson 1/3\n",
    "This calculates the simpson's integral by using the definition:<br>\n",
    "$\\frac{h}{3} (f_1 +4f_2 +2f_3 +4f_4 +\\dots +2f_{n-2}+4f_{n-1} +f_n) $"
   ]
  },
  {
   "cell_type": "code",
   "execution_count": 3,
   "metadata": {},
   "outputs": [
    {
     "data": {
      "text/plain": [
       "simpson1_3 (generic function with 1 method)"
      ]
     },
     "metadata": {},
     "output_type": "display_data"
    }
   ],
   "source": [
    "function simpson1_3(f,h,lim)\n",
    "    xᵢ= lim[1]:h:lim[2]\n",
    "    intg=f(xᵢ[1])+f(xᵢ[end])\n",
    "\n",
    "    for i in xᵢ[2:2:end-1]\n",
    "        intg += 4f(i) + 2f(i+h)\n",
    "    end\n",
    "\n",
    "    return intg*h/3\n",
    "end"
   ]
  },
  {
   "cell_type": "code",
   "execution_count": 4,
   "metadata": {},
   "outputs": [
    {
     "name": "stdout",
     "output_type": "stream",
     "text": [
      "Value of the integral from 0 to π with simpson 1/3 rule: 4.484247390503179"
     ]
    }
   ],
   "source": [
    "s_sim=simpson1_3(f,0.01,[0.00001,π])\n",
    "print(\"Value of the integral from 0 to π with simpson 1/3 rule: \",s_sim)"
   ]
  },
  {
   "cell_type": "markdown",
   "metadata": {},
   "source": [
    "### 2. Romberg with Simpson 1/3\n",
    "For romberg integration, we use the formula:<br>\n",
    "$A = \\frac{k^2I_1 - I_2}{k^2 - 1}$ <br> to get a better value of the integral"
   ]
  },
  {
   "cell_type": "code",
   "execution_count": 13,
   "metadata": {},
   "outputs": [
    {
     "data": {
      "text/plain": [
       "Romberg_simpson1_3 (generic function with 1 method)"
      ]
     },
     "metadata": {},
     "output_type": "display_data"
    }
   ],
   "source": [
    "function Romberg_simpson1_3(f::Function,h,lim;k=2)\n",
    "    I₂ = simpson1_3(f,k*h,lim)\n",
    "    I₁ = simpson1_3(f,h,lim)\n",
    "\n",
    "    (k^2*I₁ - I₂) / (k^2 - 1)\n",
    "end"
   ]
  },
  {
   "cell_type": "code",
   "execution_count": 23,
   "metadata": {},
   "outputs": [
    {
     "name": "stdout",
     "output_type": "stream",
     "text": [
      "Value of the integral from 0 to π with romberg on simpson 1/3 rule: 4.484227643051782"
     ]
    }
   ],
   "source": [
    "s_rom=Romberg_simpson1_3(f,0.01,[0.00001,π],k=1/2)\n",
    "print(\"Value of the integral from 0 to π with romberg on simpson 1/3 rule: \",s_rom)\n"
   ]
  },
  {
   "cell_type": "markdown",
   "metadata": {},
   "source": [
    "### Gaussian Legendre with 4 points\n",
    "This method approximates the integral as:<br>\n",
    "\n",
    "$\\int_{-1}^1 f(x)dx \\approx \\sum_{i=1}^{n} A_i f(x_i)$<br>\n",
    "\n",
    "The values $A_i$ and $x_i$ are obtained from table 2 in slide 4 pg 31"
   ]
  },
  {
   "cell_type": "code",
   "execution_count": null,
   "metadata": {},
   "outputs": [
    {
     "data": {
      "text/plain": [
       "Gauss_Legendre_4p (generic function with 1 method)"
      ]
     },
     "metadata": {},
     "output_type": "display_data"
    }
   ],
   "source": [
    "function Gauss_Legendre_4p(f::Function)\n",
    "    Aᵢ = [ 0.3478548451 , 0.6521451549, 0.6521451549, 0.3478548451 ]\n",
    "    xᵢ = [ -0.8611363116 , -0.3394810436, 0.3394810436, 0.8611363116]\n",
    "   dot(Aᵢ,f.(xᵢ)) \n",
    "end"
   ]
  },
  {
   "cell_type": "code",
   "execution_count": 27,
   "metadata": {},
   "outputs": [
    {
     "name": "stdout",
     "output_type": "stream",
     "text": [
      "Value of the integral from -1 to 1 with Gauss Legendre: 2.040278580926612"
     ]
    }
   ],
   "source": [
    "s_GL=Gauss_Legendre_4p(f)\n",
    "print(\"Value of the integral from -1 to 1 with Gauss Legendre: \",s_GL)"
   ]
  },
  {
   "cell_type": "code",
   "execution_count": 28,
   "metadata": {},
   "outputs": [
    {
     "name": "stdout",
     "output_type": "stream",
     "text": [
      "Value of the integral from -1 to 1 with simpson 1/3 rule: 2.044861990775553"
     ]
    }
   ],
   "source": [
    "s_sim2=simpson1_3(f_safe,0.01,[-1,1])\n",
    "print(\"Value of the integral from -1 to 1 with simpson 1/3 rule: \",s_sim2)"
   ]
  },
  {
   "cell_type": "code",
   "execution_count": 30,
   "metadata": {},
   "outputs": [
    {
     "name": "stdout",
     "output_type": "stream",
     "text": [
      "Value of the integral from -1 to 1 with romberg on simpson 1/3 rule: 2.04182669320004"
     ]
    }
   ],
   "source": [
    "s_rom2=Romberg_simpson1_3(f_safe,0.01,[-1,1],k=1/2)\n",
    "print(\"Value of the integral from -1 to 1 with romberg on simpson 1/3 rule: \",s_rom2)\n"
   ]
  }
 ],
 "metadata": {
  "kernelspec": {
   "display_name": "Julia 1.11.1",
   "language": "julia",
   "name": "julia-1.11"
  },
  "language_info": {
   "file_extension": ".jl",
   "mimetype": "application/julia",
   "name": "julia",
   "version": "1.11.1"
  }
 },
 "nbformat": 4,
 "nbformat_minor": 2
}
