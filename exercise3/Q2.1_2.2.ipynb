{
 "cells": [
  {
   "cell_type": "markdown",
   "metadata": {},
   "source": [
    "### Question 2.1 Gauss Method"
   ]
  },
  {
   "cell_type": "code",
   "execution_count": 1,
   "metadata": {},
   "outputs": [],
   "source": [
    "using LinearAlgebra\n",
    "# using Plots\n",
    "using PyCall\n",
    "using PyPlot\n",
    "using DataFrames\n",
    "using CSV\n",
    "# plotlyjs()"
   ]
  },
  {
   "cell_type": "markdown",
   "metadata": {},
   "source": [
    "#### B1. Display Matrix Product\n",
    "In Julia, computing a matrix product is trivial. Julia also makes sure that matrix dimensions are appropriate otherwise it throws an error"
   ]
  },
  {
   "cell_type": "code",
   "execution_count": 2,
   "metadata": {},
   "outputs": [
    {
     "data": {
      "text/plain": [
       "Matrix_Mult_Show (generic function with 1 method)"
      ]
     },
     "metadata": {},
     "output_type": "display_data"
    }
   ],
   "source": [
    "function Matrix_Mult_Show(M::Matrix,N::Vector)\n",
    "    Mult=M*N\n",
    "    print(Mult)\n",
    "    return Mult\n",
    "end"
   ]
  },
  {
   "cell_type": "code",
   "execution_count": 3,
   "metadata": {},
   "outputs": [
    {
     "name": "stdout",
     "output_type": "stream",
     "text": [
      "[68, 167, 266]"
     ]
    }
   ],
   "source": [
    "M=[1 2 3;\n",
    "   4 5 6;\n",
    "   7 8 9]\n",
    "N=[10, 11, 12]\n",
    "Matrix_Mult_Show(M,N);"
   ]
  },
  {
   "cell_type": "markdown",
   "metadata": {},
   "source": [
    "#### B2. Solving the Equations for an Upper Diagonal Matrix\n",
    "We have the following equations:\n",
    "1. $x_1+2x_2+3x_3=10$\n",
    "2. $~~~~~~~~~5x_2+6x_3=11$\n",
    "3. $~~~~~~~~~~~~~~~~~~~~9x_3=12$\n",
    "\n",
    "<br>\n",
    "The LHS of this system of equations is an upper diagonal matrix. This can be easily solved:"
   ]
  },
  {
   "cell_type": "code",
   "execution_count": 4,
   "metadata": {},
   "outputs": [],
   "source": [
    "M=[1 2 3;\n",
    "   0 5 6;\n",
    "   0 0 9]\n",
    "N=[10,11,12];"
   ]
  },
  {
   "cell_type": "markdown",
   "metadata": {},
   "source": [
    "This function starts from the last row of the diagonal and calculates $x_n$ as $\\frac{N_n}{M_{n,n}}$.\n",
    "<br><br>\n",
    "Then it iterates from row $n-1$ to row $1$ and calculates $x_{n-i}$ as $\\frac{N_i -\\sum_j M_{i,j} x_j}{M_{i,i}} $. It returns an $n$ sized vector containing the solution for the system of equations"
   ]
  },
  {
   "cell_type": "code",
   "execution_count": 5,
   "metadata": {},
   "outputs": [
    {
     "data": {
      "text/plain": [
       "Gauss_Method (generic function with 1 method)"
      ]
     },
     "metadata": {},
     "output_type": "display_data"
    }
   ],
   "source": [
    "function Gauss_Method(M::Matrix,N)\n",
    "    soln=zeros(size(N))\n",
    "    soln[end] = (N[end]/M[end,:])[end]\n",
    "\n",
    "    for i in (size(soln)[1]-1):-1:1\n",
    "        ∑ax=0\n",
    "        for j in (size(soln)[1]):-1:i+1\n",
    "            ∑ax+=M[i,j]soln[j]\n",
    "        end\n",
    "        soln[i] = (N[i]-∑ax)/M[i,i]\n",
    "        # print(i)\n",
    "    end\n",
    "\n",
    "    return soln\n",
    "end"
   ]
  },
  {
   "cell_type": "code",
   "execution_count": 26,
   "metadata": {},
   "outputs": [
    {
     "name": "stdout",
     "output_type": "stream",
     "text": [
      "Solution vector x̄ for the given matrices:"
     ]
    },
    {
     "data": {
      "text/plain": [
       "3-element Vector{Float64}:\n",
       " 4.8\n",
       " 0.6\n",
       " 1.3333333333333333"
      ]
     },
     "metadata": {},
     "output_type": "display_data"
    }
   ],
   "source": [
    "soln=Gauss_Method(M,N)\n",
    "print(\"Solution vector x̄ for the given matrices:\")\n",
    "soln"
   ]
  },
  {
   "cell_type": "markdown",
   "metadata": {},
   "source": [
    "#### Multiplying the upper diagonal matrix with the solutions we obtained matches the RHS of the original system of equations"
   ]
  },
  {
   "cell_type": "code",
   "execution_count": null,
   "metadata": {},
   "outputs": [
    {
     "name": "stdout",
     "output_type": "stream",
     "text": [
      "Verifying our solution:\n",
      "[10.0, 11.0, 12.0]"
     ]
    }
   ],
   "source": [
    "print(\"Verifying our solution:\\n\")\n",
    "Matrix_Mult_Show(M,soln);"
   ]
  },
  {
   "cell_type": "markdown",
   "metadata": {},
   "source": [
    "### Question 2.2 Gaussian Elimination"
   ]
  },
  {
   "cell_type": "markdown",
   "metadata": {},
   "source": [
    "#### Function for Gaussian Elimination without Pivoting\n",
    "\n",
    "This function takes a matrix and converts it into an upper diagonal matrix which is then used by the function `Gauss_Method` to find the solutions. "
   ]
  },
  {
   "cell_type": "code",
   "execution_count": 15,
   "metadata": {},
   "outputs": [
    {
     "data": {
      "text/plain": [
       "Gauss_Solve (generic function with 1 method)"
      ]
     },
     "metadata": {},
     "output_type": "display_data"
    }
   ],
   "source": [
    "function Gauss_Solve(M::Matrix,B)\n",
    "    M_UD=M\n",
    "    for i in 1:size(M)[2]\n",
    "        for j in i+1:size(M)[2]\n",
    "            M_UD[j,:]-=M_UD[i,:]*M_UD[j,i]/M_UD[i,i]\n",
    "        end\n",
    "    end\n",
    "    # show(M_UD)\n",
    "    soln=Gauss_Method(M_UD,B)\n",
    "    return soln\n",
    "end"
   ]
  },
  {
   "cell_type": "markdown",
   "metadata": {},
   "source": [
    "The system of equations $M_2  X = N_2$ defined as matrices:<br>"
   ]
  },
  {
   "cell_type": "code",
   "execution_count": null,
   "metadata": {},
   "outputs": [],
   "source": [
    "M2=[2     0.1   -0.2;\n",
    "    0.05  4.2   0.032;\n",
    "    0.12 -0.07  5]\n",
    "N2 = [10, 11, 12];"
   ]
  },
  {
   "cell_type": "code",
   "execution_count": 31,
   "metadata": {},
   "outputs": [
    {
     "name": "stdout",
     "output_type": "stream",
     "text": [
      "Solution vector x̄ for the given matrices:"
     ]
    },
    {
     "data": {
      "text/plain": [
       "3-element Vector{Float64}:\n",
       " 5.109418104536006\n",
       " 2.5995055268789558\n",
       " 2.393933808799544"
      ]
     },
     "metadata": {},
     "output_type": "display_data"
    }
   ],
   "source": [
    "soln2 = Gauss_Solve(M2,N2)\n",
    "print(\"Solution vector x̄ for the given matrices:\")\n",
    "soln2"
   ]
  },
  {
   "cell_type": "markdown",
   "metadata": {},
   "source": [
    "We Verify the solutions to the above equations. We get back the RHS of the system of equations as expected"
   ]
  },
  {
   "cell_type": "code",
   "execution_count": 32,
   "metadata": {},
   "outputs": [
    {
     "name": "stdout",
     "output_type": "stream",
     "text": [
      "Verifying our solution:\n",
      "[10.0, 11.0, 12.000000000000002]"
     ]
    },
    {
     "data": {
      "text/plain": [
       "3-element Vector{Float64}:\n",
       " 10.0\n",
       " 11.0\n",
       " 12.000000000000002"
      ]
     },
     "metadata": {},
     "output_type": "display_data"
    }
   ],
   "source": [
    "print(\"Verifying our solution:\\n\")\n",
    "Matrix_Mult_Show(M2,soln2)"
   ]
  }
 ],
 "metadata": {
  "kernelspec": {
   "display_name": "Julia 1.11.1",
   "language": "julia",
   "name": "julia-1.11"
  },
  "language_info": {
   "file_extension": ".jl",
   "mimetype": "application/julia",
   "name": "julia",
   "version": "1.11.1"
  }
 },
 "nbformat": 4,
 "nbformat_minor": 2
}
