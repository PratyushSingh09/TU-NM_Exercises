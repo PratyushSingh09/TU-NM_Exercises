{
 "cells": [
  {
   "cell_type": "markdown",
   "metadata": {},
   "source": [
    "## Numerical Differentiation"
   ]
  },
  {
   "cell_type": "code",
   "execution_count": 1,
   "metadata": {},
   "outputs": [],
   "source": [
    "using LinearAlgebra\n",
    "# using Plots\n",
    "using PyCall\n",
    "using PyPlot\n",
    "using DataFrames\n",
    "using CSV\n",
    "using Symbolics\n",
    "# plotlyjs()"
   ]
  },
  {
   "cell_type": "markdown",
   "metadata": {},
   "source": [
    "#### Defining the Functions\n",
    "I chose this sigmoid function to showcase the central difference method"
   ]
  },
  {
   "cell_type": "code",
   "execution_count": 9,
   "metadata": {},
   "outputs": [
    {
     "data": {
      "text/plain": [
       "f′ (generic function with 1 method)"
      ]
     },
     "metadata": {},
     "output_type": "display_data"
    }
   ],
   "source": [
    "function f(x)\n",
    "    1/(1+exp(x))\n",
    "end\n",
    "\n",
    "function f′(x)\n",
    "    (exp(x)-1)exp(x)/(1+exp(x))^3\n",
    "end"
   ]
  },
  {
   "cell_type": "markdown",
   "metadata": {},
   "source": [
    "#### Second derivative using Central Difference Method"
   ]
  },
  {
   "cell_type": "code",
   "execution_count": 5,
   "metadata": {},
   "outputs": [
    {
     "data": {
      "text/plain": [
       "second_derivative_CD2 (generic function with 1 method)"
      ]
     },
     "metadata": {},
     "output_type": "display_data"
    }
   ],
   "source": [
    "function second_derivative_CD2(f::Function,x,h)\n",
    "    (f(x-h)-2f(x)+f(x+h))/h^2\n",
    "end"
   ]
  },
  {
   "cell_type": "code",
   "execution_count": 16,
   "metadata": {},
   "outputs": [
    {
     "name": "stdout",
     "output_type": "stream",
     "text": [
      "Second Derivative from Central Differences with error of order h²: 0.09085671845765475\n",
      "True Value: 0.09085774767294841\n",
      "Error: 0.00010284368413561451"
     ]
    }
   ],
   "source": [
    "sd_cd2=second_derivative_CD2(f,1,0.01)\n",
    "print(\"Second Derivative from Central Differences with error of order h²: \",sd_cd2)\n",
    "print(\"\\nTrue Value: \",f′(1))\n",
    "print(\"\\nError: \",f′(1)-second_derivative_CD2(f,1,0.1))"
   ]
  },
  {
   "cell_type": "markdown",
   "metadata": {},
   "source": [
    "This finds the correct value within $10^{-3}$"
   ]
  }
 ],
 "metadata": {
  "kernelspec": {
   "display_name": "Julia 1.11.1",
   "language": "julia",
   "name": "julia-1.11"
  },
  "language_info": {
   "file_extension": ".jl",
   "mimetype": "application/julia",
   "name": "julia",
   "version": "1.11.1"
  }
 },
 "nbformat": 4,
 "nbformat_minor": 2
}
