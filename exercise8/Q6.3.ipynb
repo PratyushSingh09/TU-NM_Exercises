{
 "cells": [
  {
   "cell_type": "markdown",
   "metadata": {},
   "source": [
    "## 1st Order Non Linear ODEs"
   ]
  },
  {
   "cell_type": "code",
   "execution_count": 1,
   "metadata": {},
   "outputs": [],
   "source": [
    "using LinearAlgebra\n",
    "# using Plots\n",
    "using PyCall\n",
    "using PyPlot\n",
    "using DataFrames\n",
    "using CSV\n",
    "using Symbolics\n",
    "using Integrals\n",
    "# plotlyjs()\n",
    "matplotlib.use(\"TkAgg\")"
   ]
  },
  {
   "cell_type": "markdown",
   "metadata": {},
   "source": [
    "### ODE Algorithms\n",
    "Here the RK4 algorithm is implemented as the following: <br>\n",
    "$y_{n+1} = y_n + \\frac{1}{6}(k_1+2k_2+2k_3+k_4)$ where:\n",
    "1. $k_1 = hf(x_n,y_n)$\n",
    "2. $k_2 = hf(x_n+\\frac{1}{2}h,y_n+\\frac{1}{2}k_1)$\n",
    "3. $k_3 = hf(x_n+\\frac{1}{2}h,y_n+\\frac{1}{2}k_2)$\n",
    "4. $k_2 = hf(x_n+h,y_n+k_3)$\n",
    "\n",
    "The Adams Multon algorithms are also implemented as: <br>\n",
    "1. Predictor: $y_{n+1} = y_n + \\frac{1}{24}(55f_k - 59f_{k-1} + 37f_{k-2}-9f_{k-4})$\n",
    "2. Predictor: $y_{n+1} = y_n + \\frac{1}{24}(9f_{k+1} +19f_{k} - 5f_{k-1}+f_{k-2})$"
   ]
  },
  {
   "cell_type": "code",
   "execution_count": 2,
   "metadata": {},
   "outputs": [
    {
     "data": {
      "text/plain": [
       "Adams_Multon_Corrector (generic function with 1 method)"
      ]
     },
     "metadata": {},
     "output_type": "display_data"
    }
   ],
   "source": [
    "function RK4(f::Function,xlim,y₀,h)\n",
    "    xᵢ = xlim[1]:h:xlim[2]\n",
    "    yᵢ = [y₀;zeros(length(xᵢ)-1)]\n",
    "    \n",
    "    for (x,y,i) in zip(xᵢ,yᵢ,2:length(xᵢ))\n",
    "        k₁ = h*f(x,y)\n",
    "        k₂ = h*f(x+h/2,y+k₁/2)\n",
    "        k₃ = h*f(x+h/2,y+k₂/2)\n",
    "        k₄ = h*f(x+h,y+k₃)\n",
    "\n",
    "        yᵢ[i] = y + (k₁+2k₂+2k₃+k₄)/6\n",
    "    end\n",
    "    \n",
    "    return yᵢ\n",
    "end\n",
    "\n",
    "function Adams_Multon(f::Function,xlim,yₒ,h)\n",
    "    xᵢ = xlim[1]:h:xlim[2]\n",
    "    y₁₋₄ = RK4(f,[xᵢ[1],xᵢ[4]],y₀,h)\n",
    "    \n",
    "    yᵢ = [y₁₋₄ ;zeros(length(xᵢ)-4)]\n",
    "\n",
    "    for i in 5:length(xᵢ)\n",
    "        yᵢ[i] = yᵢ[i-1] + h/24*( 55f(xᵢ[i-1],yᵢ[i-1]) - 59f(xᵢ[i-2],yᵢ[i-2]) + 37f(xᵢ[i-3],yᵢ[i-3]) - 9f(xᵢ[i-4],yᵢ[i-4]))\n",
    "    end\n",
    "    \n",
    "    return yᵢ\n",
    "end\n",
    "\n",
    "function Adams_Multon_Corrector(f::Function,xlim,y₀,h)\n",
    "    xᵢ = xlim[1]:h:xlim[2]\n",
    "\n",
    "    yᵢ = Adams_Multon(f,xlim,y₀,h)\n",
    "\n",
    "    for i in 4:length(xᵢ)\n",
    "        yᵢ[i] = yᵢ[i-1] + h/24*( 9f(xᵢ[i],yᵢ[i]) + 19f(xᵢ[i-1],yᵢ[i-1]) - 5f(xᵢ[i-2],yᵢ[i-2]) + f(xᵢ[i-3],yᵢ[i-3]) )\n",
    "    end \n",
    "\n",
    "    return yᵢ\n",
    "end"
   ]
  },
  {
   "cell_type": "markdown",
   "metadata": {},
   "source": [
    "### Testing and Comparisons\n",
    "The function $f(x,y) = \\frac{dy}{dx}$ and its analytical solution $y(x)$ is defined below. An initial condition is set"
   ]
  },
  {
   "cell_type": "code",
   "execution_count": 3,
   "metadata": {},
   "outputs": [
    {
     "data": {
      "text/plain": [
       "y (generic function with 1 method)"
      ]
     },
     "metadata": {},
     "output_type": "display_data"
    }
   ],
   "source": [
    "function f(x,y)\n",
    "    y + x^2 - 2x +sin(x)\n",
    "end\n",
    "\n",
    "y₀ = 0.1\n",
    "\n",
    "function y(x)\n",
    "    0.6exp(x) - x^2 -1/2*(cos(x) + sin(x))\n",
    "end"
   ]
  },
  {
   "cell_type": "code",
   "execution_count": 27,
   "metadata": {},
   "outputs": [
    {
     "data": {
      "text/plain": [
       "ODE_Test (generic function with 1 method)"
      ]
     },
     "metadata": {},
     "output_type": "display_data"
    }
   ],
   "source": [
    "function ODE_Test(f,y,lim,yₒ,N_lim,x_eval;plot=\"N\",scale = \"loglog\")\n",
    "    true_y = y(x_eval)\n",
    "    if scale == \"loglog\"\n",
    "        pl_func = loglog\n",
    "    else\n",
    "        pl_func = plt.plot\n",
    "    end\n",
    "\n",
    "    plt.close(\"all\")\n",
    "    \n",
    "    for (ODE_Func,FE) in zip([RK4,Adams_Multon,Adams_Multon_Corrector],[4,1,2])\n",
    "        N_arr = round.(Int,exp(1) .^(range(log(N_lim[1]),stop=log(N_lim[2]),length=100)))\n",
    "        Err_arr=zeros(length(N_arr))\n",
    "\n",
    "        for (n,i) in zip(N_arr,1:length(N_arr))\n",
    "            h = (lim[2]-lim[1])/n\n",
    "            est_y = ODE_Func(f,lim,yₒ,h)\n",
    "            Err = abs(true_y - est_y[end])\n",
    "        \n",
    "            Err_arr[i] = Err\n",
    "        end\n",
    "        if plot == \"N\"\n",
    "            pl_func(N_arr,Err_arr)\n",
    "        elseif plot == \"FE\"\n",
    "            pl_func(FE*N_arr,Err_arr)\n",
    "        end\n",
    "    end\n",
    "\n",
    "    legend(string.([\"RK4\",\"Adams Multon\",\"Adams Multon Corrector\"]))\n",
    "    if plot == \"N\"\n",
    "        xlabel(\"N\")\n",
    "    elseif plot == \"FE\"\n",
    "        xlabel(\"Function Evaluations\")\n",
    "    end\n",
    "    ylabel(\"Deviation from True Value\")\n",
    "    title(\"Error for \"*string(f))\n",
    "    grid()\n",
    "    plt.show()\n",
    "end\n"
   ]
  },
  {
   "cell_type": "markdown",
   "metadata": {},
   "source": [
    "#### Plotting absolute error as a function of number of steps taken"
   ]
  },
  {
   "cell_type": "code",
   "execution_count": 29,
   "metadata": {},
   "outputs": [],
   "source": [
    "ODE_Test(f,y,[0,2],y₀,[10,5000],2,plot=\"N\",scale=\"loglog\")"
   ]
  },
  {
   "cell_type": "markdown",
   "metadata": {},
   "source": [
    "\n",
    "![alt text](Fig_1.png) <br>\n",
    "We see that The error for all decreases linearly and is lowest for RK4, then Adams Multon with corrector and highest for Adams Multon"
   ]
  },
  {
   "cell_type": "markdown",
   "metadata": {},
   "source": [
    "### Non Ideal Air Resistance\n",
    "We try to solve the Bernoulli type differential equation numerically:<br>\n",
    "$v^\\prime(t) + \\mu (t) v(t) -\\omega^2 (t)v^3(t) =0$\n",
    "\n",
    "With initial condition that $v_0 = 2$"
   ]
  },
  {
   "cell_type": "markdown",
   "metadata": {},
   "source": [
    "The true solution is (I think): <br>\n",
    "1. $v(t)=\\sqrt{μ(t)} * [ω^2(t) + e^{2μ(t)t + 2ln\\sqrt{-μ(t)/4+ω(t)^2}}]^{-1/2}$ for $μ(t)-4ω(t)^2<0$\n",
    "2. $v(t)=\\sqrt{μ(t)} * [ω^2(t) + e^{2μ(t)t + ln\\{μ(t)/4-ω(t)^2\\}}]^{-1/2}$ for $μ(t)-4ω(t)^2>0$"
   ]
  },
  {
   "cell_type": "code",
   "execution_count": null,
   "metadata": {},
   "outputs": [
    {
     "data": {
      "text/plain": [
       "v_const3 (generic function with 1 method)"
      ]
     },
     "metadata": {},
     "output_type": "display_data"
    }
   ],
   "source": [
    "function v′(t,μ,v,ω)\n",
    "    ω(t)^2*v^3 - μ(t)*v    \n",
    "end\n",
    "\n",
    "v₀=2\n",
    "\n",
    "function v(t,μ,ω)\n",
    "    if μ(t)-4ω(t)^2<0\n",
    "        sqrt(μ(t)) * (ω(t)^2 + exp( 2μ(t)t +2log2(sqrt(-(μ(t)/4-ω(t)^2)))))^(-1/2)\n",
    "    else\n",
    "\n",
    "        sqrt(μ(t)) * (ω(t)^2 + exp( 2μ(t)t +log2(-ω(t)^2+μ(t)/4)))^(-1/2)\n",
    "    end\n",
    "end\n",
    "\n",
    "function v_const_2(t)\n",
    "    2exp((0.12496225t^4-2t))\n",
    "end"
   ]
  },
  {
   "cell_type": "markdown",
   "metadata": {},
   "source": [
    "#### Constant $\\omega$ and $\\mu$"
   ]
  },
  {
   "cell_type": "code",
   "execution_count": 40,
   "metadata": {},
   "outputs": [
    {
     "data": {
      "text/plain": [
       "#34 (generic function with 1 method)"
      ]
     },
     "metadata": {},
     "output_type": "display_data"
    }
   ],
   "source": [
    "function ω₀(t)\n",
    "    0.707\n",
    "end\n",
    "\n",
    "function μ₀(t)\n",
    "    2\n",
    "end\n",
    "t_test=1.5\n",
    "\n",
    "v′_const= (t,v)->v′(t,μ₀,v,ω₀)\n",
    "v_const= t->v(t,μ₀,ω₀)"
   ]
  },
  {
   "cell_type": "markdown",
   "metadata": {},
   "source": [
    "I'm a bit unsure about this one, the solution on the sheet wasn't correct so I tried changing the signs such that it made sense, but the two algorithms converge to different values and apparently RK4 is more accurate."
   ]
  },
  {
   "cell_type": "code",
   "execution_count": 50,
   "metadata": {},
   "outputs": [],
   "source": [
    "ODE_Test(v′_const,v_const,[0,1.5],v₀,[10,5000],1.5,plot=\"N\",scale=\"loglog\")"
   ]
  },
  {
   "cell_type": "markdown",
   "metadata": {},
   "source": [
    "![alt text](Fig_2.png)"
   ]
  },
  {
   "cell_type": "markdown",
   "metadata": {},
   "source": [
    "Something must be going wrong with the code below, might look at it later"
   ]
  },
  {
   "cell_type": "code",
   "execution_count": 51,
   "metadata": {},
   "outputs": [
    {
     "data": {
      "text/plain": [
       "ωₜ (generic function with 1 method)"
      ]
     },
     "metadata": {},
     "output_type": "display_data"
    }
   ],
   "source": [
    "# ω₁ = 1/sqrt(2)-0.2:0.01:1/sqrt(2)+0.2\n",
    "function ωₜ(t;t_max=1.5)\n",
    "    ω₁ = 1/sqrt(2)-0.2:0.01:1/sqrt(2)+0.2\n",
    "    return ω₁[(1+round(Int,t/t_max*(length(ω₁)-1)))]\n",
    "end"
   ]
  },
  {
   "cell_type": "code",
   "execution_count": 52,
   "metadata": {},
   "outputs": [],
   "source": [
    "t=0:0.05:1.5\n",
    "plot(t,v.(t,μ₀,ωₜ))\n",
    "show()"
   ]
  },
  {
   "cell_type": "code",
   "execution_count": 55,
   "metadata": {},
   "outputs": [],
   "source": [
    "t=0:0.05:1.5\n",
    "plot(t,v.(t,μ₀,ωₜ))\n",
    "plot(t,Adams_Multon_Corrector((t,v)->v′(t,μ₀,v,ωₜ) ,[t[1],t[end]],y₀,0.05))\n",
    "plot(t,RK4((t,v)->v′(t,μ₀,v,ωₜ) ,[t[1],t[end]],y₀,0.05))\n",
    "show()"
   ]
  },
  {
   "cell_type": "code",
   "execution_count": 54,
   "metadata": {},
   "outputs": [
    {
     "data": {
      "text/plain": [
       "ω₂ (generic function with 1 method)"
      ]
     },
     "metadata": {},
     "output_type": "display_data"
    }
   ],
   "source": [
    "function ω₂(t)\n",
    "    ω₀ = 1/sqrt(2)\n",
    "    ω₀*tan(t)\n",
    "end"
   ]
  },
  {
   "cell_type": "code",
   "execution_count": 58,
   "metadata": {},
   "outputs": [],
   "source": [
    "t=0:0.05:1.5\n",
    "plot(t,v.(t,μ₀,ωₜ))\n",
    "plot(t,Adams_Multon_Corrector((t,v)->v′(t,μ₀,v,ω₂) ,[t[1],t[end]],y₀,0.05))\n",
    "plot(t,RK4((t,v)->v′(t,μ₀,v,ω₂) ,[t[1],t[end]],y₀,0.05))\n",
    "show()"
   ]
  }
 ],
 "metadata": {
  "kernelspec": {
   "display_name": "Julia 1.11.1",
   "language": "julia",
   "name": "julia-1.11"
  },
  "language_info": {
   "file_extension": ".jl",
   "mimetype": "application/julia",
   "name": "julia",
   "version": "1.11.1"
  }
 },
 "nbformat": 4,
 "nbformat_minor": 2
}
