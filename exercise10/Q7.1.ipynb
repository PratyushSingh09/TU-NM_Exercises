{
 "cells": [
  {
   "cell_type": "markdown",
   "metadata": {},
   "source": [
    "## Boundary Value Problems"
   ]
  },
  {
   "cell_type": "code",
   "execution_count": 1,
   "metadata": {},
   "outputs": [],
   "source": [
    "using LinearAlgebra\n",
    "# using Plots\n",
    "using PyCall\n",
    "using PyPlot\n",
    "using DataFrames\n",
    "using CSV\n",
    "using Symbolics\n",
    "using Integrals\n",
    "using DifferentialEquations\n",
    "# plotlyjs()\n",
    "matplotlib.use(\"TkAgg\")"
   ]
  },
  {
   "cell_type": "markdown",
   "metadata": {},
   "source": [
    "### Shooting Method\n",
    "A General BVP problem:<br>\n",
    "$u^{\\prime\\prime}(x)=g(u,u^\\prime,x)$<br>\n",
    "With boundary conditions as:<br>\n",
    "$ u(x_1) = u_1$, $ u(x_2) = u_2$\n",
    "\n",
    "We find the initial value of $u^\\prime(x_1)$ by finding the root of the function $u(x_g)-u(x_2)$ where $u(x_g)$ is calculated by rk4 method using some initial guesses for $u^\\prime(x_1)$"
   ]
  },
  {
   "cell_type": "code",
   "execution_count": 112,
   "metadata": {},
   "outputs": [
    {
     "data": {
      "text/plain": [
       "RK4 (generic function with 1 method)"
      ]
     },
     "metadata": {},
     "output_type": "display_data"
    }
   ],
   "source": [
    "function RK4(f::Function,xlim,y₀,h)\n",
    "    xᵢ = xlim[1]:h:xlim[2]\n",
    "    # print(y₀,'\\t',zeros(length(xᵢ)-1,length(y₀)),'\\n')\n",
    "    yᵢ = [transpose(y₀);zeros(length(xᵢ)-1,length(y₀))]\n",
    "    # print(yᵢ,'\\n')\n",
    "\n",
    "    for (x,y,i) in zip(xᵢ, eachrow(yᵢ),2:length(xᵢ))\n",
    "        # print(x,' ',y,'\\n')\n",
    "        \n",
    "            k₁ = h*f(x,y)\n",
    "            k₂ = h*f(x+h/2,y+k₁/2)\n",
    "            k₃ = h*f(x+h/2,y+k₂/2)\n",
    "            k₄ = h*f(x+h,y+k₃)\n",
    "\n",
    "            yᵢ[i,:] = y + (k₁+2k₂+2k₃+k₄)/6\n",
    "    end\n",
    "    \n",
    "    return yᵢ\n",
    "end\n"
   ]
  },
  {
   "cell_type": "code",
   "execution_count": 113,
   "metadata": {},
   "outputs": [
    {
     "data": {
      "text/plain": [
       "linear_interpolation_root_finding (generic function with 1 method)"
      ]
     },
     "metadata": {},
     "output_type": "display_data"
    }
   ],
   "source": [
    "function linear_interpolation_root_finding(f::Function,x1,x2,ϵ;verbose=false,kill_time=3e10)\n",
    "    st = time_ns()\n",
    "    x3=x2-f(x2)*(x2-x1)/(f(x2)-f(x1))\n",
    "    i=1\n",
    "    xᵢ=[]\n",
    "    while abs(f(x3))>ϵ\n",
    "        if (time_ns()-st)>kill_time\n",
    "            println(\"TIMEOUT! Did not converge for the given precision OR initial guesses\")\n",
    "            return NaN,\"DID NOT CONVERGE\"\n",
    "        end\n",
    "        i=i+1\n",
    "        x3=x2-f(x2)*(x2-x1)/(f(x2)-f(x1))\n",
    "\n",
    "        if verbose\n",
    "            print(\"Iteration: \",i)\n",
    "            print(\" Current root: \",x3,'\\n')\n",
    "        end\n",
    "        \n",
    "        if f(x3)*f(x1)<0\n",
    "            x2=x3\n",
    "        else\n",
    "            x1=x3\n",
    "        end    \n",
    "\n",
    "        xᵢ=[xᵢ;x3]\n",
    "    end\n",
    "    if verbose\n",
    "        return x3,xᵢ\n",
    "    end\n",
    "    return x3,i\n",
    "end"
   ]
  },
  {
   "cell_type": "code",
   "execution_count": 129,
   "metadata": {},
   "outputs": [
    {
     "data": {
      "text/plain": [
       "shooting_method (generic function with 2 methods)"
      ]
     },
     "metadata": {},
     "output_type": "display_data"
    }
   ],
   "source": [
    "function shooting_method(f::Function,xlim,y₀,yf,y′lim,h,ϵ;plot=false)\n",
    "    plt.close(\"all\")\n",
    "    plt.hlines(yf,xlim[1],xlim[2],linestyle=\"--\")\n",
    "    plt.xlabel(\"x\")\n",
    "    plt.ylabel(\"u\")\n",
    "    plt.title(\"BVP Solution by Shooting Method\\n Dashed blue line is the target\")\n",
    "    function int_func(y′g;plot=plot)\n",
    "        y=RK4(f,xlim,[y₀,y′g],h)\n",
    "        if plot\n",
    "            plt.plot(xlim[1]:h:xlim[2],y[:,1])\n",
    "            plt.text(xlim[2],y[end,1],\"u'=$y′g\")\n",
    "        end\n",
    "        y[end,1]-yf\n",
    "    end\n",
    "    int_func_plot = (g)->int_func(g,plot=plot) \n",
    "    sol=linear_interpolation_root_finding(int_func_plot,y′lim[1],y′lim[2],ϵ)\n",
    "    print(\"Value of u′(\",y₀,\"): \",sol[1],\"\\n\")\n",
    "    print(\"Number of iterations: \",sol[2],\"\\n\")\n",
    "    if plot\n",
    "        plt.show()\n",
    "        \n",
    "    end\n",
    "end"
   ]
  },
  {
   "cell_type": "markdown",
   "metadata": {},
   "source": [
    "#### Linear BVP"
   ]
  },
  {
   "cell_type": "code",
   "execution_count": 114,
   "metadata": {},
   "outputs": [
    {
     "data": {
      "text/plain": [
       "f (generic function with 1 method)"
      ]
     },
     "metadata": {},
     "output_type": "display_data"
    }
   ],
   "source": [
    "function u₂(u,x)\n",
    "    (1-x/5)*u+x\n",
    "end\n",
    "\n",
    "function u₁(u′)\n",
    "    u′\n",
    "end\n",
    "\n",
    "function f(x,y)\n",
    "    u,u′=y\n",
    "    [u₁(u′),u₂(u,x)]\n",
    "end"
   ]
  },
  {
   "cell_type": "code",
   "execution_count": 130,
   "metadata": {},
   "outputs": [
    {
     "name": "stdout",
     "output_type": "stream",
     "text": [
      "Value of u′(2): -3.4949853954695502\n",
      "Number of iterations: 1\n"
     ]
    }
   ],
   "source": [
    "shooting_method(f,[1,3],2,-1,[-2,2],0.0001,1e-7,plot=true)"
   ]
  },
  {
   "cell_type": "markdown",
   "metadata": {},
   "source": [
    "Only a single iteration results in finding the correct solution (after initial guesses at two random points). Since the ODE is linear, this is expected."
   ]
  },
  {
   "cell_type": "markdown",
   "metadata": {},
   "source": [
    "### Non Linear BVP"
   ]
  },
  {
   "cell_type": "code",
   "execution_count": 123,
   "metadata": {},
   "outputs": [
    {
     "data": {
      "text/plain": [
       "g (generic function with 1 method)"
      ]
     },
     "metadata": {},
     "output_type": "display_data"
    }
   ],
   "source": [
    "function v₂(v,v′,x)\n",
    "    (1-x/5)*v*v′+x\n",
    "end\n",
    "\n",
    "function v₁(v′)\n",
    "    v′\n",
    "end\n",
    "\n",
    "function g(x,y)\n",
    "    v,v′=y\n",
    "    [v₁(v′),v₂(v,v′,x)]\n",
    "end"
   ]
  },
  {
   "cell_type": "code",
   "execution_count": 127,
   "metadata": {},
   "outputs": [
    {
     "name": "stdout",
     "output_type": "stream",
     "text": [
      "Value of u′(2): -2.0160524313053663\n",
      "Number of iterations: 3\n"
     ]
    }
   ],
   "source": [
    "shooting_method(g,[1,3],2,-1,[-1.5,-2],0.0001,1e-4,plot=true) "
   ]
  },
  {
   "cell_type": "markdown",
   "metadata": {},
   "source": [
    "Now, it takes three more iterations to reach the correct value"
   ]
  }
 ],
 "metadata": {
  "kernelspec": {
   "display_name": "Julia 1.11.1",
   "language": "julia",
   "name": "julia-1.11"
  },
  "language_info": {
   "file_extension": ".jl",
   "mimetype": "application/julia",
   "name": "julia",
   "version": "1.11.1"
  }
 },
 "nbformat": 4,
 "nbformat_minor": 2
}
