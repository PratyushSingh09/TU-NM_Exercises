{
 "cells": [
  {
   "cell_type": "markdown",
   "metadata": {},
   "source": [
    "## Richardson Extrapolation and and Spline Derivative"
   ]
  },
  {
   "cell_type": "code",
   "execution_count": 1,
   "metadata": {},
   "outputs": [],
   "source": [
    "using LinearAlgebra\n",
    "# using Plots\n",
    "using PyCall\n",
    "using PyPlot\n",
    "using DataFrames\n",
    "using CSV\n",
    "using Symbolics\n",
    "using Integrals\n",
    "# plotlyjs()\n",
    "matplotlib.use(\"TkAgg\")"
   ]
  },
  {
   "cell_type": "markdown",
   "metadata": {},
   "source": [
    "### Richardson Extrapolation\n",
    "Richardson extrapolation is done with two iterations to find a accurate derivative value\n",
    "1. F is defined as: $F = \\frac{1}{h}(y(x_0+h/2)-y(x_0-h/2))$\n",
    "2. First iteration: $\\tilde F  = \\frac{4}{3}(F(h/2)-F(h))$\n",
    "2. Second iteration: $\\frac{16}{15}(\\tilde F(h/2)-\\tilde F(h))$"
   ]
  },
  {
   "cell_type": "code",
   "execution_count": 5,
   "metadata": {},
   "outputs": [
    {
     "data": {
      "text/plain": [
       "Richardson_2iter (generic function with 1 method)"
      ]
     },
     "metadata": {},
     "output_type": "display_data"
    }
   ],
   "source": [
    "function F_Richardson(y::Function,x₀,h)\n",
    "    1/h*(y(x₀+h/2)-y(x₀-h/2))\n",
    "end\n",
    "function F̃_Richardson(y::Function,x₀,h)\n",
    "    F = (h)->F_Richardson(y,x₀,h)\n",
    "    4/3*F(h/2) - 1/3*F(h)\n",
    "end\n",
    "\n",
    "function Richardson_2iter(y::Function,x₀,h)\n",
    "    F̃ = (h)->F̃_Richardson(y,x₀,h)\n",
    "    16/15*F̃(h/2) - 1/15*F̃(h)\n",
    "end"
   ]
  },
  {
   "cell_type": "markdown",
   "metadata": {},
   "source": [
    "#### Defining central difference method for Comparison"
   ]
  },
  {
   "cell_type": "code",
   "execution_count": 6,
   "metadata": {},
   "outputs": [
    {
     "data": {
      "text/plain": [
       "Central_Difference (generic function with 1 method)"
      ]
     },
     "metadata": {},
     "output_type": "display_data"
    }
   ],
   "source": [
    "function Central_Difference(y::Function,x₀,h)\n",
    "    (-y(x₀+2h) + 8y(x₀+h) - 8y(x₀-h) + y(x₀-2h))/(12h)\n",
    "end"
   ]
  },
  {
   "cell_type": "code",
   "execution_count": 12,
   "metadata": {},
   "outputs": [
    {
     "name": "stdout",
     "output_type": "stream",
     "text": [
      "Derivative of tan⁻¹(x) at x = 0 by Richardson Extrapolation: 0.9999999999652116\n",
      "Error as compared to true value of derivative: 3.478839438741943e-11\n"
     ]
    }
   ],
   "source": [
    "print(\"Derivative of tan⁻¹(x) at x = 0 by Richardson Extrapolation: \", Richardson_2iter(atan,0,0.1), \"\\n\")\n",
    "print(\"Error as compared to true value of derivative: \", abs(Richardson_2iter(atan,0,0.1) - 1), \"\\n\")"
   ]
  },
  {
   "cell_type": "code",
   "execution_count": 13,
   "metadata": {},
   "outputs": [
    {
     "name": "stdout",
     "output_type": "stream",
     "text": [
      "Derivative of tan⁻¹(x) at x = 0 by Central Differences: 0.9999227667990257\n",
      "Error as compared to true value of derivative:7.723320097430264e-5\n"
     ]
    }
   ],
   "source": [
    "print(\"Derivative of tan⁻¹(x) at x = 0 by Central Differences: \", Central_Difference(atan,0,0.1), \"\\n\")\n",
    "print(\"Error as compared to true value of derivative:\", abs(Central_Difference(atan,0,0.1) - 1), \"\\n\")"
   ]
  },
  {
   "cell_type": "markdown",
   "metadata": {},
   "source": [
    "Richardson extrapolation is approximately $10^6$ times more accurate (for this problem)"
   ]
  },
  {
   "cell_type": "markdown",
   "metadata": {},
   "source": [
    "### Spline Derivative\n",
    "Here, we get the spline coefficients $a_i, b_i, c_i $ and $ d_i$ <br>\n",
    "Spline derivative is defined as $ y(x)=3a_i (x-x_i)^2+2b_i (x-x_i)+c_i $"
   ]
  },
  {
   "cell_type": "code",
   "execution_count": 16,
   "metadata": {},
   "outputs": [
    {
     "data": {
      "text/plain": [
       "spline_derivative (generic function with 1 method)"
      ]
     },
     "metadata": {},
     "output_type": "display_data"
    }
   ],
   "source": [
    "function spline_coeff(f::Function,n,lim;verbose=false)\n",
    "    Y = f.(range(lim[1],lim[2],length=n+1))\n",
    "    h= Y[2]-Y[1]\n",
    "\n",
    "    if verbose\n",
    "        print(h,' ',n ,'\\n')\n",
    "        \n",
    "    end\n",
    "\n",
    "    # S=0 AND Sₙ=0\n",
    "    A = Tridiagonal(repeat([h],n-2),repeat([2h],n-1),repeat([h],n-2))\n",
    "\n",
    "    \n",
    "    if verbose\n",
    "        print(size(A),'\\n')\n",
    "        print(size(Y),'\\n')\n",
    "        \n",
    "    end\n",
    "    S = A\\(Y[2:end-1])\n",
    "    \n",
    "    S = [0;S;0]\n",
    "    # Y = [Y;f₁(lim[2])]\n",
    "    if verbose\n",
    "        print(size(S),'\\n')\n",
    "        print(size(Y),'\\n')\n",
    "        \n",
    "    end\n",
    "    aᵢ=zeros(n)\n",
    "    bᵢ=zeros(n)\n",
    "    cᵢ=zeros(n)\n",
    "    dᵢ=zeros(n)\n",
    "    for i in 1:(n)\n",
    "        aᵢ[i] = (S[i+1]-S[i])/(6h)\n",
    "        bᵢ[i] = S[i]/2\n",
    "        cᵢ[i] = (Y[i+1]-Y[i])/h - (2h*S[i]+h*S[i+1])/6\n",
    "        dᵢ[i] = Y[i]\n",
    "    end\n",
    "    return aᵢ,bᵢ,cᵢ,dᵢ,h\n",
    "end\n",
    "\n",
    "function spline_derivative(y::Function,x₀,h)\n",
    "\n",
    "    aᵢ,bᵢ,cᵢ,dᵢ,h = spline_coeff(y,3,[x₀-h,x₀+h])\n",
    "\n",
    "    3aᵢ[1]*h^2 + 2bᵢ[1]*h + cᵢ[1]\n",
    "end"
   ]
  },
  {
   "cell_type": "code",
   "execution_count": null,
   "metadata": {},
   "outputs": [
    {
     "name": "stdout",
     "output_type": "stream",
     "text": [
      "Derivative of tan⁻¹(x) at x = 0 by Splines: 0.9888930013739177\n",
      "Error as compared to true value of derivative: 0.011106998626082332\n"
     ]
    }
   ],
   "source": [
    "print(\"Derivative of tan⁻¹(x) at x = 0 by Splines: \", spline_derivative(atan,0,0.1), \"\\n\")\n",
    "print(\"Error as compared to true value of derivative: \", abs(spline_derivative(atan,0,0.1) - 1), \"\\n\")\n",
    "#Pretty high error"
   ]
  }
 ],
 "metadata": {
  "kernelspec": {
   "display_name": "Julia 1.11.1",
   "language": "julia",
   "name": "julia-1.11"
  },
  "language_info": {
   "file_extension": ".jl",
   "mimetype": "application/julia",
   "name": "julia",
   "version": "1.11.1"
  }
 },
 "nbformat": 4,
 "nbformat_minor": 2
}
