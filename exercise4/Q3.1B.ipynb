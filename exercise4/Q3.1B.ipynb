{
 "cells": [
  {
   "cell_type": "markdown",
   "metadata": {},
   "source": [
    "## 3.1 Interpolation\n",
    "### I-B Padé Approximations"
   ]
  },
  {
   "cell_type": "code",
   "execution_count": 215,
   "metadata": {},
   "outputs": [],
   "source": [
    "using LinearAlgebra\n",
    "# using Plots\n",
    "using PyCall\n",
    "using PyPlot\n",
    "using DataFrames\n",
    "using CSV\n",
    "using Symbolics\n",
    "# plotlyjs()"
   ]
  },
  {
   "cell_type": "markdown",
   "metadata": {},
   "source": [
    "#### Functions for Gaussian Methods\n",
    "Although I end up not using them since they converge to a different solution"
   ]
  },
  {
   "cell_type": "code",
   "execution_count": 168,
   "metadata": {},
   "outputs": [
    {
     "data": {
      "text/plain": [
       "Gauss_Solve (generic function with 1 method)"
      ]
     },
     "metadata": {},
     "output_type": "display_data"
    }
   ],
   "source": [
    "function Gauss_Method(M::Matrix,N)\n",
    "    soln=zeros(Rational,size(N))\n",
    "    soln[end] = (N[end]//M[end,end])\n",
    "\n",
    "    for i in (size(soln)[1]-1):-1:1\n",
    "        ∑ax=0//1\n",
    "        for j in (size(soln)[1]):-1:i+1\n",
    "            ∑ax+=M[i,j]soln[j]\n",
    "        end\n",
    "        soln[i] = (N[i]-∑ax)//M[i,i]\n",
    "        # print(i)\n",
    "    end\n",
    "\n",
    "    return soln\n",
    "end\n",
    "\n",
    "function Gauss_Solve(M::Matrix,B)\n",
    "    M_UD=M\n",
    "    for i in 1:size(M)[2]\n",
    "        for j in i+1:size(M)[2]\n",
    "            M_UD[j,:]-=M_UD[i,:]*M_UD[j,i]//M_UD[i,i]\n",
    "        end\n",
    "        # print('\\n')\n",
    "    end\n",
    "    # print(M_UD)\n",
    "    soln=Gauss_Method(M_UD,B)\n",
    "    return soln\n",
    "end"
   ]
  },
  {
   "cell_type": "markdown",
   "metadata": {},
   "source": [
    "#### Function $e^x$\n",
    "\n",
    "![alt text](<NM ex4 f(x).jpeg>)"
   ]
  },
  {
   "cell_type": "code",
   "execution_count": 176,
   "metadata": {},
   "outputs": [
    {
     "data": {
      "text/plain": [
       "6-element Vector{Float64}:\n",
       " 1.0\n",
       " 1.0\n",
       " 0.5\n",
       " 0.16666666666666666\n",
       " 0.041666666666666664\n",
       " 0.008333333333333333"
      ]
     },
     "metadata": {},
     "output_type": "display_data"
    }
   ],
   "source": [
    "Cᵢ = [1,1,1/2,1/6,1/24,1/120] #COEFFICIENTS FOR MACLAURIN SERIES"
   ]
  },
  {
   "cell_type": "markdown",
   "metadata": {},
   "source": [
    "#### P[5,0]"
   ]
  },
  {
   "cell_type": "markdown",
   "metadata": {},
   "source": [
    "The solution to this is trivial and is solved without needing any numerical methods"
   ]
  },
  {
   "cell_type": "markdown",
   "metadata": {},
   "source": [
    "![alt text](<NM ex4 P[5,0].jpeg>)"
   ]
  },
  {
   "cell_type": "markdown",
   "metadata": {},
   "source": [
    "#### P[2,3]"
   ]
  },
  {
   "cell_type": "markdown",
   "metadata": {},
   "source": [
    "![alt text](<NM ex4 P[2,3].jpeg>)\n",
    "We solve this matix here to get the values for all $a_i$ and $b_j$\n",
    "<br>\n",
    "A few notes:\n",
    "1. x//y in julia defines a rational number and defines exact ratios of integers.\n",
    "2. A\\B is left division which is equivalent to B/A. Here A and B are matrices\n",
    "<br> Defining the matrices we obtained above:"
   ]
  },
  {
   "cell_type": "code",
   "execution_count": null,
   "metadata": {},
   "outputs": [
    {
     "data": {
      "text/plain": [
       "6×6 Matrix{Rational{Int64}}:\n",
       " 1//2  1//6  1//24   0   0  0\n",
       "  1    1//2  1//6    0   0  0\n",
       "  1     1    1//2    0   0  0\n",
       "  0     1     1     -1   0  0\n",
       "  0     0     1      0  -1  0\n",
       "  0     0     0      0   0  1"
      ]
     },
     "metadata": {},
     "output_type": "display_data"
    }
   ],
   "source": [
    "P₂₃_A = [1//2 1//6 1//24  0  0  0\n",
    "         1    1//2 1//6   0  0  0\n",
    "         1    1    1//2   0  0  0\n",
    "         0    1    1     -1  0  0\n",
    "         0    0    1      0  -1 0 \n",
    "         0    0    0      0   0 1]"
   ]
  },
  {
   "cell_type": "code",
   "execution_count": 182,
   "metadata": {},
   "outputs": [
    {
     "data": {
      "text/plain": [
       "6-element Vector{Rational{Int64}}:\n",
       " -1//120\n",
       " -1//24\n",
       " -1//6\n",
       " -1//2\n",
       "  -1\n",
       "   1"
      ]
     },
     "metadata": {},
     "output_type": "display_data"
    }
   ],
   "source": [
    "P₂₃_B = [-1//120, -1//24, -1//6, -1//2, -1,1]"
   ]
  },
  {
   "cell_type": "markdown",
   "metadata": {},
   "source": [
    "This is the solution we obtain from julia's inbuilt operator to solve system of linear equations:"
   ]
  },
  {
   "cell_type": "code",
   "execution_count": 173,
   "metadata": {},
   "outputs": [
    {
     "data": {
      "text/plain": [
       "6-element Vector{Rational{Int64}}:\n",
       " -1//60\n",
       "  3//20\n",
       " -3//5\n",
       "  1//20\n",
       "  2//5\n",
       "   1"
      ]
     },
     "metadata": {},
     "output_type": "display_data"
    }
   ],
   "source": [
    "P3=P₂₃_A\\P₂₃_B"
   ]
  },
  {
   "cell_type": "markdown",
   "metadata": {},
   "source": [
    "Verifying that our solution is correct:"
   ]
  },
  {
   "cell_type": "code",
   "execution_count": 184,
   "metadata": {},
   "outputs": [
    {
     "data": {
      "text/plain": [
       "6-element Vector{Rational{Int64}}:\n",
       " -1//120\n",
       " -1//24\n",
       " -1//6\n",
       " -1//2\n",
       "  -1\n",
       "   1"
      ]
     },
     "metadata": {},
     "output_type": "display_data"
    }
   ],
   "source": [
    "P₂₃_A*P3"
   ]
  },
  {
   "cell_type": "markdown",
   "metadata": {},
   "source": [
    "This matches the array $P_{23}\\_B$, therefore, this solution we obtain is correct. Hence, we prove that:<br>\n",
    "$P[2,3]=\\frac{1+\\frac{2}{5}x+\\frac{1}{20}x^2}{1-\\frac{3}{5}x+\\frac{3}{20}x^2-\\frac{1}{60}x^3}$"
   ]
  },
  {
   "cell_type": "markdown",
   "metadata": {},
   "source": [
    "Also attempting to use previous exercise's Gaussian method to find a solution:"
   ]
  },
  {
   "cell_type": "code",
   "execution_count": 170,
   "metadata": {},
   "outputs": [
    {
     "data": {
      "text/plain": [
       "6-element Vector{Rational}:\n",
       " -1//10\n",
       "  3//4\n",
       "  -2\n",
       "  1//2\n",
       "   1\n",
       "   1"
      ]
     },
     "metadata": {},
     "output_type": "display_data"
    }
   ],
   "source": [
    "gauss_sol=Gauss_Solve(P₂₃_A,P₂₃_B)"
   ]
  },
  {
   "cell_type": "code",
   "execution_count": 171,
   "metadata": {},
   "outputs": [
    {
     "data": {
      "text/plain": [
       "6-element Vector{Rational}:\n",
       " -1//120\n",
       " -1//24\n",
       " -1//6\n",
       " -1//2\n",
       "  -1\n",
       "   1"
      ]
     },
     "metadata": {},
     "output_type": "display_data"
    }
   ],
   "source": [
    "P₂₃_A*gauss_sol"
   ]
  },
  {
   "cell_type": "markdown",
   "metadata": {},
   "source": [
    "Curiously, this converges to a different solution. This solution also satisfies the original equation. This suggests that this system of linear equations has two correct solutions"
   ]
  },
  {
   "cell_type": "markdown",
   "metadata": {},
   "source": [
    "#### P[1,4]"
   ]
  },
  {
   "cell_type": "markdown",
   "metadata": {},
   "source": [
    "![alt text](<NM ex4 P[1,4].jpeg>)\n",
    "We solve this matix here to get the values for all $a_i$ and $b_j$\n",
    "<br>\n",
    "A few notes:\n",
    "1. x//y in julia defines a rational number and defines exact ratios of integers.\n",
    "2. A\\B is left division which is equivalent to B/A. Here A and B are matrices\n",
    "<br> Defining the matrices we obtained above:"
   ]
  },
  {
   "cell_type": "code",
   "execution_count": 188,
   "metadata": {},
   "outputs": [
    {
     "data": {
      "text/plain": [
       "6×6 Matrix{Rational{Int64}}:\n",
       " 1  1//2  1//6  1//24   0  0\n",
       " 1   1    1//2  1//6    0  0\n",
       " 0   1     1    1//2    0  0\n",
       " 0   0     1     1      0  0\n",
       " 0   0     0     1     -1  0\n",
       " 0   0     0     0      0  1"
      ]
     },
     "metadata": {},
     "output_type": "display_data"
    }
   ],
   "source": [
    "P₁₄_A = [1    1//2 1//6   1//24  0  0\n",
    "         1    1    1//2   1//6  0  0\n",
    "         0    1    1     1//2  0  0\n",
    "         0    0    1      1  0 0 \n",
    "         0    0    0      1   -1 0\n",
    "         0    0    0      0   0 1]"
   ]
  },
  {
   "cell_type": "code",
   "execution_count": 189,
   "metadata": {},
   "outputs": [
    {
     "data": {
      "text/plain": [
       "6-element Vector{Rational{Int64}}:\n",
       " -1//120\n",
       " -1//24\n",
       " -1//6\n",
       " -1//2\n",
       "  -1\n",
       "   1"
      ]
     },
     "metadata": {},
     "output_type": "display_data"
    }
   ],
   "source": [
    "P₁₄_B = [-1//120, -1//24, -1//6, -1//2, -1,1]"
   ]
  },
  {
   "cell_type": "markdown",
   "metadata": {},
   "source": [
    "This is the solution we obtain from julia's inbuilt operator to solve system of linear equations:"
   ]
  },
  {
   "cell_type": "code",
   "execution_count": 190,
   "metadata": {},
   "outputs": [
    {
     "data": {
      "text/plain": [
       "6-element Vector{Rational{Int64}}:\n",
       "  1//120\n",
       " -1//15\n",
       "  3//10\n",
       " -4//5\n",
       "  1//5\n",
       "   1"
      ]
     },
     "metadata": {},
     "output_type": "display_data"
    }
   ],
   "source": [
    "P₁₄X=P₁₄_A\\P₁₄_B"
   ]
  },
  {
   "cell_type": "markdown",
   "metadata": {},
   "source": [
    "Verifying that our solution is correct:"
   ]
  },
  {
   "cell_type": "code",
   "execution_count": 192,
   "metadata": {},
   "outputs": [
    {
     "data": {
      "text/plain": [
       "6-element Vector{Rational{Int64}}:\n",
       " -1//120\n",
       " -1//24\n",
       " -1//6\n",
       " -1//2\n",
       "  -1\n",
       "   1"
      ]
     },
     "metadata": {},
     "output_type": "display_data"
    }
   ],
   "source": [
    "P₁₄_A*P₁₄X"
   ]
  },
  {
   "cell_type": "markdown",
   "metadata": {},
   "source": [
    "This matches the array $P_{23}\\_B$, therefore, this solution we obtain is correct. Hence, we prove that:<br>\n",
    "$P[2,3]=\\frac{1+\\frac{1}{5}x}{1-\\frac{4}{5}x+\\frac{3}{10}x^2-\\frac{1}{15}x^3+\\frac{1}{120}x^4}$"
   ]
  },
  {
   "cell_type": "markdown",
   "metadata": {},
   "source": [
    "Also attempting to use previous exercise's Gaussian method to find a solution:"
   ]
  },
  {
   "cell_type": "code",
   "execution_count": 193,
   "metadata": {},
   "outputs": [
    {
     "data": {
      "text/plain": [
       "6-element Vector{Rational}:\n",
       "  1//30\n",
       " -1//4\n",
       "   1\n",
       "  -2\n",
       "   1\n",
       "   1"
      ]
     },
     "metadata": {},
     "output_type": "display_data"
    }
   ],
   "source": [
    "gauss_sol=Gauss_Solve(P₁₄_A,P₁₄_B)"
   ]
  },
  {
   "cell_type": "code",
   "execution_count": 194,
   "metadata": {},
   "outputs": [
    {
     "data": {
      "text/plain": [
       "6-element Vector{Rational}:\n",
       " -1//120\n",
       " -1//24\n",
       " -1//6\n",
       " -1//2\n",
       "  -1\n",
       "   1"
      ]
     },
     "metadata": {},
     "output_type": "display_data"
    }
   ],
   "source": [
    "P₁₄_A*gauss_sol"
   ]
  },
  {
   "cell_type": "markdown",
   "metadata": {},
   "source": [
    "This also converges to a different but valid solution for the same system of linear equations"
   ]
  },
  {
   "cell_type": "markdown",
   "metadata": {},
   "source": [
    "#### Checking Accuracy of the three approximations\n",
    "\n",
    "Defining the Padé Approximations:"
   ]
  },
  {
   "cell_type": "code",
   "execution_count": 244,
   "metadata": {},
   "outputs": [
    {
     "data": {
      "text/plain": [
       "P₁₄ (generic function with 1 method)"
      ]
     },
     "metadata": {},
     "output_type": "display_data"
    }
   ],
   "source": [
    "function P₅₀(x)\n",
    "    1 + x + 1/2*x^2 + 1/6*x^3 + 1/24*x^4 + 1/120*x^5\n",
    "end\n",
    "\n",
    "function P₂₃(x)\n",
    "    ( 1 + 2/5*x + 1/20*x^2 )/( 1 - 3/5*x + 3/20*x^2 - 1/60*x^3 )\n",
    "end\n",
    "\n",
    "function P₁₄(x)\n",
    "    ( 1 + 1/5*x  )/( 1 - 4/5*x + 3/10*x^2 - 1/15*x^3 +1/120*x^4 )\n",
    "end"
   ]
  },
  {
   "cell_type": "markdown",
   "metadata": {},
   "source": [
    "##### x=0.5"
   ]
  },
  {
   "cell_type": "code",
   "execution_count": 209,
   "metadata": {},
   "outputs": [
    {
     "name": "stdout",
     "output_type": "stream",
     "text": [
      "Value of eˣ: 1.6487212707001282\n",
      "Value of P[5,0]: 1.6486979166666667\t± \t2.33540334615423e-5\n",
      "Value of P[2,3]: 1.6487252124645893\t± \t3.941764461057318e-6\n",
      "Value of P[1,4]: 1.6487119437939113\t± \t9.326906216911013e-6\n"
     ]
    }
   ],
   "source": [
    "x=0.5\n",
    "print(\"Value of eˣ: \",exp(x),'\\n')\n",
    "print(\"Value of P[5,0]: \", P₅₀(x),'\\t',\"± \\t\",abs(exp(x)-P₅₀(x)),'\\n')\n",
    "print(\"Value of P[2,3]: \", P₂₃(x),'\\t',\"± \\t\",abs(exp(x)-P₂₃(x)),'\\n')\n",
    "print(\"Value of P[1,4]: \", P₁₄(x),'\\t',\"± \\t\",abs(exp(x)-P₁₄(x)),'\\n')"
   ]
  },
  {
   "cell_type": "markdown",
   "metadata": {},
   "source": [
    "Here, P[2,3] is the most accurate approximation while others are very close to the true value"
   ]
  },
  {
   "cell_type": "markdown",
   "metadata": {},
   "source": [
    "##### x=1"
   ]
  },
  {
   "cell_type": "code",
   "execution_count": 210,
   "metadata": {},
   "outputs": [
    {
     "name": "stdout",
     "output_type": "stream",
     "text": [
      "Value of eˣ: 2.718281828459045\n",
      "Value of P[5,0]: 2.7166666666666663\t± \t0.0016151617923787498\n",
      "Value of P[2,3]: 2.71875\t± \t0.0004681715409549092\n",
      "Value of P[1,4]: 2.7169811320754715\t± \t0.0013006963835735519\n"
     ]
    }
   ],
   "source": [
    "x=1\n",
    "print(\"Value of eˣ: \",exp(x),'\\n')\n",
    "print(\"Value of P[5,0]: \", P₅₀(x),'\\t',\"± \\t\",abs(exp(x)-P₅₀(x)),'\\n')\n",
    "print(\"Value of P[2,3]: \", P₂₃(x),'\\t',\"± \\t\",abs(exp(x)-P₂₃(x)),'\\n')\n",
    "print(\"Value of P[1,4]: \", P₁₄(x),'\\t',\"± \\t\",abs(exp(x)-P₁₄(x)),'\\n')"
   ]
  },
  {
   "cell_type": "markdown",
   "metadata": {},
   "source": [
    "Here, P[2,3] is also the most accurate approximation and the other two solutions are further away but still very close"
   ]
  },
  {
   "cell_type": "markdown",
   "metadata": {},
   "source": [
    "##### x=2"
   ]
  },
  {
   "cell_type": "code",
   "execution_count": 211,
   "metadata": {},
   "outputs": [
    {
     "name": "stdout",
     "output_type": "stream",
     "text": [
      "Value of eˣ: 7.38905609893065\n",
      "Value of P[5,0]: 7.266666666666667\t± \t0.1223894322639838\n",
      "Value of P[2,3]: 7.499999999999998\t± \t0.11094390106934782\n",
      "Value of P[1,4]: 7.000000000000004\t± \t0.38905609893064597\n"
     ]
    }
   ],
   "source": [
    "x=2\n",
    "print(\"Value of eˣ: \",exp(x),'\\n')\n",
    "print(\"Value of P[5,0]: \", P₅₀(x),'\\t',\"± \\t\",abs(exp(x)-P₅₀(x)),'\\n')\n",
    "print(\"Value of P[2,3]: \", P₂₃(x),'\\t',\"± \\t\",abs(exp(x)-P₂₃(x)),'\\n')\n",
    "print(\"Value of P[1,4]: \", P₁₄(x),'\\t',\"± \\t\",abs(exp(x)-P₁₄(x)),'\\n')"
   ]
  },
  {
   "cell_type": "markdown",
   "metadata": {},
   "source": [
    "Here P[2,3] is still most accurate but P[5,0] is very close. While P[1,4] diverges significantly"
   ]
  },
  {
   "cell_type": "markdown",
   "metadata": {},
   "source": [
    "##### x=5"
   ]
  },
  {
   "cell_type": "code",
   "execution_count": null,
   "metadata": {},
   "outputs": [
    {
     "name": "stdout",
     "output_type": "stream",
     "text": [
      "Value of eˣ: 148.4131591025766\n",
      "Value of P[5,0]: 91.41666666666667\t± \t56.99649243590993\n",
      "Value of P[2,3]: -12.749999999999995\t± \t161.1631591025766\n",
      "Value of P[1,4]: 1.4545454545454555\t± \t146.95861364803113\n"
     ]
    }
   ],
   "source": [
    "x=5\n",
    "print(\"Value of eˣ: \",exp(x),'\\n')\n",
    "print(\"Value of P[5,0]: \", P₅₀(x),'\\t',\"± \\t\",abs(exp(x)-P₅₀(x)),'\\n')\n",
    "print(\"Value of P[2,3]: \", P₂₃(x),'\\t',\"± \\t\",abs(exp(x)-P₂₃(x)),'\\n')\n",
    "print(\"Value of P[1,4]: \", P₁₄(x),'\\t',\"± \\t\",abs(exp(x)-P₁₄(x)),'\\n')"
   ]
  },
  {
   "cell_type": "markdown",
   "metadata": {},
   "source": [
    "Here both P[2,3] and P[1,4] have diverged significantly from the two value. P[5,0] is the most accurate of the three but the approximation is still pretty far from the true value"
   ]
  },
  {
   "cell_type": "markdown",
   "metadata": {},
   "source": [
    "#### Plotting the Padé Approximations"
   ]
  },
  {
   "cell_type": "code",
   "execution_count": 242,
   "metadata": {},
   "outputs": [
    {
     "data": {
      "image/png": "[encoded data removed]",
      "text/plain": [
       "Figure(PyObject <Figure size 640x480 with 1 Axes>)"
      ]
     },
     "metadata": {},
     "output_type": "display_data"
    }
   ],
   "source": [
    "plt.close()\n",
    "x=0.0001:0.1:3\n",
    "plt.plot(x,exp.(x))\n",
    "plt.plot(x,P₅₀.(x))\n",
    "plt.plot(x,P₂₃.(x))\n",
    "plt.plot(x,P₁₄.(x))\n",
    "plt.legend([\"eˣ\",\"P[5,0]\",\"P[2,3]\",\"P[1,4]\"])\n",
    "plt.xlabel(\"x\")\n",
    "plt.ylabel(\"y\")\n",
    "plt.title(\"Comparing eˣ with its Padé approximations\")\n",
    "gcf()"
   ]
  },
  {
   "cell_type": "markdown",
   "metadata": {},
   "source": [
    "This graph shows how all Palé approximations are accurate till around $x=2$, above which they start to diverge. P[1,4] starts curving downwards and is no longer a good approximation for $e^x$"
   ]
  },
  {
   "cell_type": "code",
   "execution_count": 241,
   "metadata": {},
   "outputs": [
    {
     "data": {
      "image/png": "[encoded data removed]",
      "text/plain": [
       "Figure(PyObject <Figure size 640x480 with 1 Axes>)"
      ]
     },
     "metadata": {},
     "output_type": "display_data"
    }
   ],
   "source": [
    "plt.close()\n",
    "x=0.0001:0.1:5\n",
    "plt.plot(x,exp.(x))\n",
    "plt.plot(x,P₅₀.(x))\n",
    "plt.plot(x,P₂₃.(x))\n",
    "plt.plot(x,P₁₄.(x))\n",
    "plt.legend([\"eˣ\",\"P[5,0]\",\"P[2,3]\",\"P[1,4]\"])\n",
    "plt.xlabel(\"x\")\n",
    "plt.ylabel(\"y\")\n",
    "plt.title(\"Comparing eˣ with its Padé approximations\")\n",
    "gcf()"
   ]
  },
  {
   "cell_type": "markdown",
   "metadata": {},
   "source": [
    "Looking further, above x~2.5, P[2,3] also diverges significantly"
   ]
  },
  {
   "cell_type": "code",
   "execution_count": 243,
   "metadata": {},
   "outputs": [
    {
     "data": {
      "image/png": "[encoded data removed]",
      "text/plain": [
       "Figure(PyObject <Figure size 640x480 with 1 Axes>)"
      ]
     },
     "metadata": {},
     "output_type": "display_data"
    }
   ],
   "source": [
    "plt.close()\n",
    "x=0.0001:0.1:7\n",
    "plt.plot(x,exp.(x))\n",
    "plt.plot(x,P₅₀.(x))\n",
    "plt.plot(x,P₂₃.(x))\n",
    "plt.plot(x,P₁₄.(x))\n",
    "plt.legend([\"eˣ\",\"P[5,0]\",\"P[2,3]\",\"P[1,4]\"])\n",
    "plt.xlabel(\"x\")\n",
    "plt.ylabel(\"y\")\n",
    "plt.title(\"Comparing eˣ with its Padé approximations\")\n",
    "gcf()"
   ]
  },
  {
   "cell_type": "markdown",
   "metadata": {},
   "source": [
    "Above x~4, none of these approximations will give good values for $e^x$"
   ]
  }
 ],
 "metadata": {
  "kernelspec": {
   "display_name": "Julia 1.11.1",
   "language": "julia",
   "name": "julia-1.11"
  },
  "language_info": {
   "file_extension": ".jl",
   "mimetype": "application/julia",
   "name": "julia",
   "version": "1.11.1"
  }
 },
 "nbformat": 4,
 "nbformat_minor": 2
}
